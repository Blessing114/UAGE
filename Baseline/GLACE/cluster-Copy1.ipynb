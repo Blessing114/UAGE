{
 "cells": [
  {
   "cell_type": "code",
   "execution_count": 1,
   "id": "35601e4b",
   "metadata": {},
   "outputs": [],
   "source": [
    "%matplotlib inline\n",
    "import numpy as np  \n",
    "import matplotlib.pyplot as plt  \n",
    "from sklearn.cluster import KMeans \n",
    "from sklearn.preprocessing import StandardScaler\n",
    "from sklearn.datasets import make_blobs   #生成数据函数  \n",
    "from sklearn import metrics\n",
    "import pandas as pd\n",
    "import pickle\n",
    "import numpy as np\n",
    "# from matplotlib import pyplot as plt\n"
   ]
  },
  {
   "cell_type": "code",
   "execution_count": 20,
   "id": "76987fd3",
   "metadata": {},
   "outputs": [],
   "source": [
    "def main_kmeans(dataset=\"cora_ml\",t=1, is_all = True):\n",
    "    if dataset==\"cora_ml\":\n",
    "        n_clusters=7\n",
    "    elif dataset==\"citeseer\":\n",
    "        n_clusters=6\n",
    "    elif dataset==\"pubmed\":\n",
    "        n_clusters=3\n",
    "    file_path = '../Data/%s_y.pkl' % dataset   #####原数据的z值文件\n",
    "    with open(file_path,'rb') as fo:                     \n",
    "        y_true=[int(a) for a in pickle.load(fo,encoding='bytes')[0]]\n",
    "        fo.close\n",
    "    result=pickle.load(open('emb/glace_%s_all_embedding_first-order.pkl' % (dataset), 'rb'))   #####读取embedding\n",
    "    X=result[\"mu\"]\n",
    "    X = StandardScaler().fit_transform(X)  #标准化\n",
    "    cluster=KMeans(n_clusters=n_clusters,random_state=170).fit(X) \n",
    "    y_pred = cluster.labels_\n",
    "    rand_score = metrics.adjusted_rand_score(y_true, y_pred)  #兰德系数（-1，1）\n",
    "    mutual_info_score = metrics.mutual_info_score(y_pred, y_true) \n",
    "    adjusted_mutual_info_score = metrics.adjusted_mutual_info_score (y_pred, y_true) #互信息（0，1）\n",
    "    homogeneity_score = metrics.homogeneity_score(y_true, y_pred)   #V-measure（0，1） \n",
    "    completeness_score = metrics.completeness_score(y_true,y_pred)\n",
    "    fowlkes_mallows_score = metrics.fowlkes_mallows_score(y_true,y_pred)\n",
    "    v_measure_score = metrics.v_measure_score(y_true,y_pred)\n",
    "    Data=[['glace_1',dataset,rand_score,mutual_info_score,adjusted_mutual_info_score,homogeneity_score,completeness_score,fowlkes_mallows_score,v_measure_score]]\n",
    "    print(Data)\n",
    "    TotalData = pd.DataFrame(data=Data)\n",
    "    TotalData.to_csv('../test/cluster_result.csv', index=False, mode='a',header=False)\n",
    "\n",
    "#     print(\"rand_score: {}, mutual_info_score: {}, adjusted_mutual_info_score: {}, homogeneity_score: {}, completeness_score: {}, fowlkes_mallows_score: {}, v_measure_score: {}\".format(rand_score,mutual_info_score,adjusted_mutual_info_score,homogeneity_score,completeness_score,fowlkes_mallows_score,v_measure_score))"
   ]
  },
  {
   "cell_type": "code",
   "execution_count": 21,
   "id": "21e2d865",
   "metadata": {},
   "outputs": [
    {
     "name": "stdout",
     "output_type": "stream",
     "text": [
      "[['glace_1', 'cora_ml', 0.18461063714850684, 0.4825102020327927, 0.2607643537546132, 0.26042979270032357, 0.26606049753221883, 0.3244559485188472, 0.2632150355040978]]\n",
      "[['glace_1', 'citeseer', 0.2199621493239568, 0.48427634249153656, 0.2741338196600173, 0.2715736303394149, 0.27924561569974493, 0.35855187842901987, 0.2753561940954887]]\n",
      "[['glace_1', 'pubmed', 0.23961142830341903, 0.2738271233639681, 0.2550819184282414, 0.2582548451662191, 0.2521234872010206, 0.5051375578820423, 0.25515233708242835]]\n"
     ]
    }
   ],
   "source": [
    "for dataset in [\"cora_ml\",\"citeseer\",\"pubmed\"]:\n",
    "        main_kmeans(dataset=dataset,t=1, is_all = True)"
   ]
  },
  {
   "cell_type": "code",
   "execution_count": null,
   "id": "83160734",
   "metadata": {},
   "outputs": [],
   "source": []
  }
 ],
 "metadata": {
  "kernelspec": {
   "display_name": "Python 3 (ipykernel)",
   "language": "python",
   "name": "python3"
  },
  "language_info": {
   "codemirror_mode": {
    "name": "ipython",
    "version": 3
   },
   "file_extension": ".py",
   "mimetype": "text/x-python",
   "name": "python",
   "nbconvert_exporter": "python",
   "pygments_lexer": "ipython3",
   "version": "3.8.13"
  }
 },
 "nbformat": 4,
 "nbformat_minor": 5
}
