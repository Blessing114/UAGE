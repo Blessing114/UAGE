{
 "cells": [
  {
   "cell_type": "code",
   "execution_count": 1,
   "id": "35601e4b",
   "metadata": {},
   "outputs": [],
   "source": [
    "%matplotlib inline\n",
    "import numpy as np  \n",
    "import matplotlib.pyplot as plt  \n",
    "from sklearn.cluster import KMeans \n",
    "from sklearn.preprocessing import StandardScaler\n",
    "from sklearn.datasets import make_blobs   #生成数据函数  \n",
    "from sklearn import metrics\n",
    "import pandas as pd\n",
    "import pickle\n",
    "import numpy as np\n",
    "# from matplotlib import pyplot as plt\n"
   ]
  },
  {
   "cell_type": "code",
   "execution_count": 14,
   "id": "76987fd3",
   "metadata": {},
   "outputs": [],
   "source": [
    "def main_kmeans(dataset=\"cora_ml\",t=1, is_all = True):\n",
    "    if dataset==\"cora_ml\":\n",
    "        n_clusters=7\n",
    "    elif dataset==\"citeseer\":\n",
    "        n_clusters=6\n",
    "    elif dataset==\"pubmed\":\n",
    "        n_clusters=3\n",
    "    file_path = '../Data/%s_y.pkl' % dataset   #####原数据的z值文件\n",
    "    with open(file_path,'rb') as fo:                     \n",
    "        y_true=[int(a) for a in pickle.load(fo,encoding='bytes')[0]]\n",
    "        fo.close\n",
    "    result=pickle.load(open('emb/glace_%s_embedding_second-order.pkl' % (dataset), 'rb'))   #####读取embedding\n",
    "    X=result[\"mu\"]\n",
    "    X = StandardScaler().fit_transform(X)  #标准化\n",
    "    cluster=KMeans(n_clusters=n_clusters,random_state=170).fit(X) \n",
    "    y_pred = cluster.labels_\n",
    "    rand_score = metrics.adjusted_rand_score(y_true, y_pred)  #兰德系数（-1，1）\n",
    "    mutual_info_score = metrics.mutual_info_score(y_pred, y_true) \n",
    "    adjusted_mutual_info_score = metrics.adjusted_mutual_info_score (y_pred, y_true) #互信息（0，1）\n",
    "    homogeneity_score = metrics.homogeneity_score(y_true, y_pred)   #V-measure（0，1） \n",
    "    completeness_score = metrics.completeness_score(y_true,y_pred)\n",
    "    fowlkes_mallows_score = metrics.fowlkes_mallows_score(y_true,y_pred)\n",
    "    v_measure_score = metrics.v_measure_score(y_true,y_pred)\n",
    "    Data=[['g2g',dataset,rand_score,mutual_info_score,adjusted_mutual_info_score,homogeneity_score,completeness_score,fowlkes_mallows_score,v_measure_score]]\n",
    "    print(Data)\n",
    "    TotalData = pd.DataFrame(data=Data)\n",
    "    TotalData.to_csv('../../test/cluster_result.csv', index=False, mode='a',header=False)\n",
    "\n",
    "#     print(\"rand_score: {}, mutual_info_score: {}, adjusted_mutual_info_score: {}, homogeneity_score: {}, completeness_score: {}, fowlkes_mallows_score: {}, v_measure_score: {}\".format(rand_score,mutual_info_score,adjusted_mutual_info_score,homogeneity_score,completeness_score,fowlkes_mallows_score,v_measure_score))"
   ]
  },
  {
   "cell_type": "code",
   "execution_count": 15,
   "id": "21e2d865",
   "metadata": {},
   "outputs": [
    {
     "ename": "FileNotFoundError",
     "evalue": "[Errno 2] No such file or directory: 'emb/glace_cora_ml_embedding_second-order.pkl'",
     "output_type": "error",
     "traceback": [
      "\u001b[0;31m---------------------------------------------------------------------------\u001b[0m",
      "\u001b[0;31mFileNotFoundError\u001b[0m                         Traceback (most recent call last)",
      "Input \u001b[0;32mIn [15]\u001b[0m, in \u001b[0;36m<cell line: 1>\u001b[0;34m()\u001b[0m\n\u001b[1;32m      1\u001b[0m \u001b[38;5;28;01mfor\u001b[39;00m dataset \u001b[38;5;129;01min\u001b[39;00m [\u001b[38;5;124m\"\u001b[39m\u001b[38;5;124mcora_ml\u001b[39m\u001b[38;5;124m\"\u001b[39m,\u001b[38;5;124m\"\u001b[39m\u001b[38;5;124mciteseer\u001b[39m\u001b[38;5;124m\"\u001b[39m,\u001b[38;5;124m\"\u001b[39m\u001b[38;5;124mpubmed\u001b[39m\u001b[38;5;124m\"\u001b[39m]:\n\u001b[0;32m----> 2\u001b[0m         \u001b[43mmain_kmeans\u001b[49m\u001b[43m(\u001b[49m\u001b[43mdataset\u001b[49m\u001b[38;5;241;43m=\u001b[39;49m\u001b[43mdataset\u001b[49m\u001b[43m,\u001b[49m\u001b[43mt\u001b[49m\u001b[38;5;241;43m=\u001b[39;49m\u001b[38;5;241;43m1\u001b[39;49m\u001b[43m,\u001b[49m\u001b[43m \u001b[49m\u001b[43mis_all\u001b[49m\u001b[43m \u001b[49m\u001b[38;5;241;43m=\u001b[39;49m\u001b[43m \u001b[49m\u001b[38;5;28;43;01mTrue\u001b[39;49;00m\u001b[43m)\u001b[49m\n",
      "Input \u001b[0;32mIn [14]\u001b[0m, in \u001b[0;36mmain_kmeans\u001b[0;34m(dataset, t, is_all)\u001b[0m\n\u001b[1;32m     10\u001b[0m     y_true\u001b[38;5;241m=\u001b[39m[\u001b[38;5;28mint\u001b[39m(a) \u001b[38;5;28;01mfor\u001b[39;00m a \u001b[38;5;129;01min\u001b[39;00m pickle\u001b[38;5;241m.\u001b[39mload(fo,encoding\u001b[38;5;241m=\u001b[39m\u001b[38;5;124m'\u001b[39m\u001b[38;5;124mbytes\u001b[39m\u001b[38;5;124m'\u001b[39m)[\u001b[38;5;241m0\u001b[39m]]\n\u001b[1;32m     11\u001b[0m     fo\u001b[38;5;241m.\u001b[39mclose\n\u001b[0;32m---> 12\u001b[0m result\u001b[38;5;241m=\u001b[39mpickle\u001b[38;5;241m.\u001b[39mload(\u001b[38;5;28;43mopen\u001b[39;49m\u001b[43m(\u001b[49m\u001b[38;5;124;43m'\u001b[39;49m\u001b[38;5;124;43memb/glace_\u001b[39;49m\u001b[38;5;132;43;01m%s\u001b[39;49;00m\u001b[38;5;124;43m_embedding_second-order.pkl\u001b[39;49m\u001b[38;5;124;43m'\u001b[39;49m\u001b[43m \u001b[49m\u001b[38;5;241;43m%\u001b[39;49m\u001b[43m \u001b[49m\u001b[43m(\u001b[49m\u001b[43mdataset\u001b[49m\u001b[43m)\u001b[49m\u001b[43m,\u001b[49m\u001b[43m \u001b[49m\u001b[38;5;124;43m'\u001b[39;49m\u001b[38;5;124;43mrb\u001b[39;49m\u001b[38;5;124;43m'\u001b[39;49m\u001b[43m)\u001b[49m)   \u001b[38;5;66;03m#####读取embedding\u001b[39;00m\n\u001b[1;32m     13\u001b[0m X\u001b[38;5;241m=\u001b[39mresult[\u001b[38;5;124m\"\u001b[39m\u001b[38;5;124mmu\u001b[39m\u001b[38;5;124m\"\u001b[39m]\n\u001b[1;32m     14\u001b[0m X \u001b[38;5;241m=\u001b[39m StandardScaler()\u001b[38;5;241m.\u001b[39mfit_transform(X)  \u001b[38;5;66;03m#标准化\u001b[39;00m\n",
      "\u001b[0;31mFileNotFoundError\u001b[0m: [Errno 2] No such file or directory: 'emb/glace_cora_ml_embedding_second-order.pkl'"
     ]
    }
   ],
   "source": [
    "for dataset in [\"cora_ml\",\"citeseer\",\"pubmed\"]:\n",
    "        main_kmeans(dataset=dataset,t=1, is_all = True)"
   ]
  },
  {
   "cell_type": "code",
   "execution_count": null,
   "id": "83160734",
   "metadata": {},
   "outputs": [],
   "source": []
  }
 ],
 "metadata": {
  "kernelspec": {
   "display_name": "Python 3 (ipykernel)",
   "language": "python",
   "name": "python3"
  },
  "language_info": {
   "codemirror_mode": {
    "name": "ipython",
    "version": 3
   },
   "file_extension": ".py",
   "mimetype": "text/x-python",
   "name": "python",
   "nbconvert_exporter": "python",
   "pygments_lexer": "ipython3",
   "version": "3.8.13"
  }
 },
 "nbformat": 4,
 "nbformat_minor": 5
}
